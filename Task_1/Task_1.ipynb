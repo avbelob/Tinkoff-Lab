{
 "cells": [
  {
   "cell_type": "code",
   "execution_count": 1,
   "id": "d3d3d8f9",
   "metadata": {},
   "outputs": [],
   "source": [
    "import os\n",
    "os.environ[\"OPENBLAS_NUM_THREADS\"] = \"1\"\n",
    "os.environ['CUDA_VISIBLE_DEVICES'] = '0'"
   ]
  },
  {
   "cell_type": "code",
   "execution_count": 2,
   "id": "affiliated-prerequisite",
   "metadata": {},
   "outputs": [],
   "source": [
    "import os\n",
    "from shutil import copyfile, rmtree, copy, move, unpack_archive\n",
    "from tqdm.notebook import tqdm\n",
    "import torch\n",
    "import torchaudio\n",
    "from torchaudio import transforms\n",
    "import numpy as np\n",
    "from IPython.display import clear_output\n",
    "import matplotlib.pyplot as plt"
   ]
  },
  {
   "cell_type": "markdown",
   "id": "3a77ffb5",
   "metadata": {},
   "source": [
    "## Данные\n",
    "Скачаем файлы, распакуем, раскидаем нужные файлы по папкам с переименованиям (*лейбл_названиефайла.wav*)"
   ]
  },
  {
   "cell_type": "code",
   "execution_count": 3,
   "id": "85685e8d",
   "metadata": {},
   "outputs": [],
   "source": [
    "!wget https://datashare.ed.ac.uk/bitstream/handle/10283/3061/vcc2018_database_training.zip?sequence=2&isAllowed=y\n",
    "!wget https://datashare.ed.ac.uk/bitstream/handle/10283/3061/vcc2018_database_evaluation.zip?sequence=3&isAllowed=y"
   ]
  },
  {
   "cell_type": "code",
   "execution_count": 4,
   "id": "139ffe2e",
   "metadata": {},
   "outputs": [],
   "source": [
    "unpack_archive('vcc2018_database_training.zip', 'vcc2018_database_training')\n",
    "unpack_archive('vcc2018_database_evaluation.zip', 'vcc2018_database_evaluation')"
   ]
  },
  {
   "cell_type": "code",
   "execution_count": 5,
   "id": "519c7ac7",
   "metadata": {},
   "outputs": [
    {
     "data": {
      "application/vnd.jupyter.widget-view+json": {
       "model_id": "5d33ca99243e438a99e687c794adb3d8",
       "version_major": 2,
       "version_minor": 0
      },
      "text/plain": [
       "  0%|          | 0/81 [00:00<?, ?it/s]"
      ]
     },
     "metadata": {},
     "output_type": "display_data"
    },
    {
     "data": {
      "application/vnd.jupyter.widget-view+json": {
       "model_id": "af1d3102195e487fb2afe6faff367c71",
       "version_major": 2,
       "version_minor": 0
      },
      "text/plain": [
       "  0%|          | 0/81 [00:00<?, ?it/s]"
      ]
     },
     "metadata": {},
     "output_type": "display_data"
    },
    {
     "data": {
      "application/vnd.jupyter.widget-view+json": {
       "model_id": "dff4a51fcacf453d8e0e5f7348f989ad",
       "version_major": 2,
       "version_minor": 0
      },
      "text/plain": [
       "  0%|          | 0/81 [00:00<?, ?it/s]"
      ]
     },
     "metadata": {},
     "output_type": "display_data"
    },
    {
     "data": {
      "application/vnd.jupyter.widget-view+json": {
       "model_id": "5271d461e3a4433bb5fcb807f69a606c",
       "version_major": 2,
       "version_minor": 0
      },
      "text/plain": [
       "  0%|          | 0/81 [00:00<?, ?it/s]"
      ]
     },
     "metadata": {},
     "output_type": "display_data"
    },
    {
     "data": {
      "application/vnd.jupyter.widget-view+json": {
       "model_id": "4adc2835c77746078ad8e0e4a7cf7e42",
       "version_major": 2,
       "version_minor": 0
      },
      "text/plain": [
       "  0%|          | 0/81 [00:00<?, ?it/s]"
      ]
     },
     "metadata": {},
     "output_type": "display_data"
    },
    {
     "data": {
      "application/vnd.jupyter.widget-view+json": {
       "model_id": "dd9ac711110f477b8318ded07ed968a4",
       "version_major": 2,
       "version_minor": 0
      },
      "text/plain": [
       "  0%|          | 0/81 [00:00<?, ?it/s]"
      ]
     },
     "metadata": {},
     "output_type": "display_data"
    },
    {
     "data": {
      "application/vnd.jupyter.widget-view+json": {
       "model_id": "d503eb23d5ee4f25a6bd6cc5cf2042be",
       "version_major": 2,
       "version_minor": 0
      },
      "text/plain": [
       "  0%|          | 0/81 [00:00<?, ?it/s]"
      ]
     },
     "metadata": {},
     "output_type": "display_data"
    },
    {
     "data": {
      "application/vnd.jupyter.widget-view+json": {
       "model_id": "3593d39be7524250879c2b4ce2e5d7a2",
       "version_major": 2,
       "version_minor": 0
      },
      "text/plain": [
       "  0%|          | 0/81 [00:00<?, ?it/s]"
      ]
     },
     "metadata": {},
     "output_type": "display_data"
    }
   ],
   "source": [
    "try:\n",
    "    os.mkdir('train')\n",
    "except OSError as error:\n",
    "    pass \n",
    "for dir_nm in os.listdir('vcc2018_database_training/vcc2018_training'):\n",
    "    if \"VCC2S\" in dir_nm:\n",
    "        for file_nm in tqdm(os.listdir('vcc2018_database_training/vcc2018_training/' + dir_nm)):\n",
    "            copy('vcc2018_database_training/vcc2018_training/' + dir_nm + '/' + file_nm, 'train/' + dir_nm + \"_\" + file_nm)"
   ]
  },
  {
   "cell_type": "code",
   "execution_count": 6,
   "id": "054faf1b",
   "metadata": {},
   "outputs": [
    {
     "data": {
      "application/vnd.jupyter.widget-view+json": {
       "model_id": "70e4459e9dd840e799cc9020913b35ff",
       "version_major": 2,
       "version_minor": 0
      },
      "text/plain": [
       "  0%|          | 0/35 [00:00<?, ?it/s]"
      ]
     },
     "metadata": {},
     "output_type": "display_data"
    },
    {
     "data": {
      "application/vnd.jupyter.widget-view+json": {
       "model_id": "849d406528ad4c3392153d0be76d7392",
       "version_major": 2,
       "version_minor": 0
      },
      "text/plain": [
       "  0%|          | 0/35 [00:00<?, ?it/s]"
      ]
     },
     "metadata": {},
     "output_type": "display_data"
    },
    {
     "data": {
      "application/vnd.jupyter.widget-view+json": {
       "model_id": "e205fab8c5cd4456a4e42151c5aed8c8",
       "version_major": 2,
       "version_minor": 0
      },
      "text/plain": [
       "  0%|          | 0/35 [00:00<?, ?it/s]"
      ]
     },
     "metadata": {},
     "output_type": "display_data"
    },
    {
     "data": {
      "application/vnd.jupyter.widget-view+json": {
       "model_id": "a2eb7fc989b64d8c978717b80a1722df",
       "version_major": 2,
       "version_minor": 0
      },
      "text/plain": [
       "  0%|          | 0/35 [00:00<?, ?it/s]"
      ]
     },
     "metadata": {},
     "output_type": "display_data"
    },
    {
     "data": {
      "application/vnd.jupyter.widget-view+json": {
       "model_id": "efe2befb5ad04a4f8645b4386a7f993f",
       "version_major": 2,
       "version_minor": 0
      },
      "text/plain": [
       "  0%|          | 0/35 [00:00<?, ?it/s]"
      ]
     },
     "metadata": {},
     "output_type": "display_data"
    },
    {
     "data": {
      "application/vnd.jupyter.widget-view+json": {
       "model_id": "2ae63e3493d6482695dc7761968605c9",
       "version_major": 2,
       "version_minor": 0
      },
      "text/plain": [
       "  0%|          | 0/35 [00:00<?, ?it/s]"
      ]
     },
     "metadata": {},
     "output_type": "display_data"
    },
    {
     "data": {
      "application/vnd.jupyter.widget-view+json": {
       "model_id": "7d46d04c41094a6797e52d6704c90722",
       "version_major": 2,
       "version_minor": 0
      },
      "text/plain": [
       "  0%|          | 0/35 [00:00<?, ?it/s]"
      ]
     },
     "metadata": {},
     "output_type": "display_data"
    },
    {
     "data": {
      "application/vnd.jupyter.widget-view+json": {
       "model_id": "b20c961ec931481bb16a93cb4e7f0efd",
       "version_major": 2,
       "version_minor": 0
      },
      "text/plain": [
       "  0%|          | 0/35 [00:00<?, ?it/s]"
      ]
     },
     "metadata": {},
     "output_type": "display_data"
    }
   ],
   "source": [
    "try:\n",
    "    os.mkdir('test')\n",
    "except OSError as error:\n",
    "    pass \n",
    "for dir_nm in os.listdir('vcc2018_database_evaluation/vcc2018_evaluation'):\n",
    "    if \"VCC2S\" in dir_nm:\n",
    "        for file_nm in tqdm(os.listdir('vcc2018_database_evaluation/vcc2018_evaluation/' + dir_nm)):\n",
    "            copy('vcc2018_database_evaluation/vcc2018_evaluation/' + dir_nm + '/' + file_nm, 'test/' + dir_nm + \"_\" + file_nm)"
   ]
  },
  {
   "cell_type": "markdown",
   "id": "14ab1515",
   "metadata": {},
   "source": [
    "## Данные"
   ]
  },
  {
   "cell_type": "code",
   "execution_count": 7,
   "id": "c6b87365",
   "metadata": {},
   "outputs": [
    {
     "data": {
      "application/vnd.jupyter.widget-view+json": {
       "model_id": "54f22fe09dc74b8fae4e7e791d390ad0",
       "version_major": 2,
       "version_minor": 0
      },
      "text/plain": [
       "  0%|          | 0/648 [00:00<?, ?it/s]"
      ]
     },
     "metadata": {},
     "output_type": "display_data"
    }
   ],
   "source": [
    "lengths = []\n",
    "chanels = set()\n",
    "srs = set()\n",
    "for audio_file in tqdm(os.listdir('train')):\n",
    "    sig, sr = torchaudio.load('train/' + audio_file)\n",
    "    chanels.add(sig.shape[0])\n",
    "    srs.add(sr)\n",
    "    lengths.append(sig.shape[1] / sr)"
   ]
  },
  {
   "cell_type": "markdown",
   "id": "6461b458",
   "metadata": {},
   "source": [
    "Все входные данные одноканальные:"
   ]
  },
  {
   "cell_type": "code",
   "execution_count": 8,
   "id": "e3ec4d79",
   "metadata": {},
   "outputs": [
    {
     "data": {
      "text/plain": [
       "{1}"
      ]
     },
     "execution_count": 8,
     "metadata": {},
     "output_type": "execute_result"
    }
   ],
   "source": [
    "chanels"
   ]
  },
  {
   "cell_type": "markdown",
   "id": "e87351b2",
   "metadata": {},
   "source": [
    "Все файлы имеют одинаковую частоту дискретизации"
   ]
  },
  {
   "cell_type": "code",
   "execution_count": 9,
   "id": "e76542f5",
   "metadata": {},
   "outputs": [
    {
     "data": {
      "text/plain": [
       "{22050}"
      ]
     },
     "execution_count": 9,
     "metadata": {},
     "output_type": "execute_result"
    }
   ],
   "source": [
    "srs"
   ]
  },
  {
   "cell_type": "markdown",
   "id": "eb95d299",
   "metadata": {},
   "source": [
    "В среднем дорожка идет 3.5 секунды, самая длинная порядка 10 секунд, а самая короткая меньше секунды"
   ]
  },
  {
   "cell_type": "code",
   "execution_count": 10,
   "id": "29cefa96",
   "metadata": {},
   "outputs": [
    {
     "data": {
      "text/plain": [
       "(3.495423490383808, 10.715873015873015, 0.9080272108843538)"
      ]
     },
     "execution_count": 10,
     "metadata": {},
     "output_type": "execute_result"
    }
   ],
   "source": [
    "np.mean(lengths), np.max(lengths), np.min(lengths)"
   ]
  },
  {
   "cell_type": "markdown",
   "id": "25d0e1ac",
   "metadata": {},
   "source": [
    "## Метки"
   ]
  },
  {
   "cell_type": "code",
   "execution_count": 11,
   "id": "c9700930",
   "metadata": {},
   "outputs": [
    {
     "data": {
      "application/vnd.jupyter.widget-view+json": {
       "model_id": "48d3b9201f4040cda2c1a29844beacc7",
       "version_major": 2,
       "version_minor": 0
      },
      "text/plain": [
       "  0%|          | 0/648 [00:00<?, ?it/s]"
      ]
     },
     "metadata": {},
     "output_type": "display_data"
    },
    {
     "data": {
      "text/html": [
       "<div>\n",
       "<style scoped>\n",
       "    .dataframe tbody tr th:only-of-type {\n",
       "        vertical-align: middle;\n",
       "    }\n",
       "\n",
       "    .dataframe tbody tr th {\n",
       "        vertical-align: top;\n",
       "    }\n",
       "\n",
       "    .dataframe thead th {\n",
       "        text-align: right;\n",
       "    }\n",
       "</style>\n",
       "<table border=\"1\" class=\"dataframe\">\n",
       "  <thead>\n",
       "    <tr style=\"text-align: right;\">\n",
       "      <th></th>\n",
       "      <th>name</th>\n",
       "      <th>label</th>\n",
       "    </tr>\n",
       "  </thead>\n",
       "  <tbody>\n",
       "    <tr>\n",
       "      <th>0</th>\n",
       "      <td>train/VCC2SM3_20019.wav</td>\n",
       "      <td>0</td>\n",
       "    </tr>\n",
       "    <tr>\n",
       "      <th>1</th>\n",
       "      <td>train/VCC2SM2_10069.wav</td>\n",
       "      <td>1</td>\n",
       "    </tr>\n",
       "    <tr>\n",
       "      <th>2</th>\n",
       "      <td>train/VCC2SM1_10049.wav</td>\n",
       "      <td>2</td>\n",
       "    </tr>\n",
       "    <tr>\n",
       "      <th>3</th>\n",
       "      <td>train/VCC2SF1_10042.wav</td>\n",
       "      <td>3</td>\n",
       "    </tr>\n",
       "    <tr>\n",
       "      <th>4</th>\n",
       "      <td>train/VCC2SM2_10040.wav</td>\n",
       "      <td>1</td>\n",
       "    </tr>\n",
       "    <tr>\n",
       "      <th>...</th>\n",
       "      <td>...</td>\n",
       "      <td>...</td>\n",
       "    </tr>\n",
       "    <tr>\n",
       "      <th>643</th>\n",
       "      <td>train/VCC2SF4_20010.wav</td>\n",
       "      <td>7</td>\n",
       "    </tr>\n",
       "    <tr>\n",
       "      <th>644</th>\n",
       "      <td>train/VCC2SF3_20024.wav</td>\n",
       "      <td>5</td>\n",
       "    </tr>\n",
       "    <tr>\n",
       "      <th>645</th>\n",
       "      <td>train/VCC2SF2_10002.wav</td>\n",
       "      <td>4</td>\n",
       "    </tr>\n",
       "    <tr>\n",
       "      <th>646</th>\n",
       "      <td>train/VCC2SM4_20034.wav</td>\n",
       "      <td>6</td>\n",
       "    </tr>\n",
       "    <tr>\n",
       "      <th>647</th>\n",
       "      <td>train/VCC2SF2_10024.wav</td>\n",
       "      <td>4</td>\n",
       "    </tr>\n",
       "  </tbody>\n",
       "</table>\n",
       "<p>648 rows × 2 columns</p>\n",
       "</div>"
      ],
      "text/plain": [
       "                        name label\n",
       "0    train/VCC2SM3_20019.wav     0\n",
       "1    train/VCC2SM2_10069.wav     1\n",
       "2    train/VCC2SM1_10049.wav     2\n",
       "3    train/VCC2SF1_10042.wav     3\n",
       "4    train/VCC2SM2_10040.wav     1\n",
       "..                       ...   ...\n",
       "643  train/VCC2SF4_20010.wav     7\n",
       "644  train/VCC2SF3_20024.wav     5\n",
       "645  train/VCC2SF2_10002.wav     4\n",
       "646  train/VCC2SM4_20034.wav     6\n",
       "647  train/VCC2SF2_10024.wav     4\n",
       "\n",
       "[648 rows x 2 columns]"
      ]
     },
     "execution_count": 11,
     "metadata": {},
     "output_type": "execute_result"
    }
   ],
   "source": [
    "import pandas as pd\n",
    "last_label = 0\n",
    "train_data = pd.DataFrame(columns = ['name', 'label'])\n",
    "labels_dict = dict()\n",
    "for file in tqdm(os.listdir('train')):\n",
    "    if file[:7] not in labels_dict:\n",
    "        labels_dict[file[:7]] = last_label\n",
    "        last_label += 1\n",
    "    train_data = train_data.append({'name' : 'train/'+file, 'label': labels_dict[file[:7]]}, ignore_index=True)\n",
    "train_data"
   ]
  },
  {
   "cell_type": "code",
   "execution_count": 12,
   "id": "9b541d10",
   "metadata": {},
   "outputs": [
    {
     "data": {
      "application/vnd.jupyter.widget-view+json": {
       "model_id": "9bc20b84361942f481b4eb3051079554",
       "version_major": 2,
       "version_minor": 0
      },
      "text/plain": [
       "  0%|          | 0/280 [00:00<?, ?it/s]"
      ]
     },
     "metadata": {},
     "output_type": "display_data"
    },
    {
     "data": {
      "text/html": [
       "<div>\n",
       "<style scoped>\n",
       "    .dataframe tbody tr th:only-of-type {\n",
       "        vertical-align: middle;\n",
       "    }\n",
       "\n",
       "    .dataframe tbody tr th {\n",
       "        vertical-align: top;\n",
       "    }\n",
       "\n",
       "    .dataframe thead th {\n",
       "        text-align: right;\n",
       "    }\n",
       "</style>\n",
       "<table border=\"1\" class=\"dataframe\">\n",
       "  <thead>\n",
       "    <tr style=\"text-align: right;\">\n",
       "      <th></th>\n",
       "      <th>name</th>\n",
       "      <th>label</th>\n",
       "    </tr>\n",
       "  </thead>\n",
       "  <tbody>\n",
       "    <tr>\n",
       "      <th>0</th>\n",
       "      <td>test/VCC2SF4_30021.wav</td>\n",
       "      <td>7</td>\n",
       "    </tr>\n",
       "    <tr>\n",
       "      <th>1</th>\n",
       "      <td>test/VCC2SM2_30009.wav</td>\n",
       "      <td>1</td>\n",
       "    </tr>\n",
       "    <tr>\n",
       "      <th>2</th>\n",
       "      <td>test/VCC2SM3_30001.wav</td>\n",
       "      <td>0</td>\n",
       "    </tr>\n",
       "    <tr>\n",
       "      <th>3</th>\n",
       "      <td>test/VCC2SM1_30029.wav</td>\n",
       "      <td>2</td>\n",
       "    </tr>\n",
       "    <tr>\n",
       "      <th>4</th>\n",
       "      <td>test/VCC2SF1_30026.wav</td>\n",
       "      <td>3</td>\n",
       "    </tr>\n",
       "    <tr>\n",
       "      <th>...</th>\n",
       "      <td>...</td>\n",
       "      <td>...</td>\n",
       "    </tr>\n",
       "    <tr>\n",
       "      <th>275</th>\n",
       "      <td>test/VCC2SM4_30019.wav</td>\n",
       "      <td>6</td>\n",
       "    </tr>\n",
       "    <tr>\n",
       "      <th>276</th>\n",
       "      <td>test/VCC2SM3_30012.wav</td>\n",
       "      <td>0</td>\n",
       "    </tr>\n",
       "    <tr>\n",
       "      <th>277</th>\n",
       "      <td>test/VCC2SF4_30033.wav</td>\n",
       "      <td>7</td>\n",
       "    </tr>\n",
       "    <tr>\n",
       "      <th>278</th>\n",
       "      <td>test/VCC2SM2_30024.wav</td>\n",
       "      <td>1</td>\n",
       "    </tr>\n",
       "    <tr>\n",
       "      <th>279</th>\n",
       "      <td>test/VCC2SF4_30023.wav</td>\n",
       "      <td>7</td>\n",
       "    </tr>\n",
       "  </tbody>\n",
       "</table>\n",
       "<p>280 rows × 2 columns</p>\n",
       "</div>"
      ],
      "text/plain": [
       "                       name label\n",
       "0    test/VCC2SF4_30021.wav     7\n",
       "1    test/VCC2SM2_30009.wav     1\n",
       "2    test/VCC2SM3_30001.wav     0\n",
       "3    test/VCC2SM1_30029.wav     2\n",
       "4    test/VCC2SF1_30026.wav     3\n",
       "..                      ...   ...\n",
       "275  test/VCC2SM4_30019.wav     6\n",
       "276  test/VCC2SM3_30012.wav     0\n",
       "277  test/VCC2SF4_30033.wav     7\n",
       "278  test/VCC2SM2_30024.wav     1\n",
       "279  test/VCC2SF4_30023.wav     7\n",
       "\n",
       "[280 rows x 2 columns]"
      ]
     },
     "execution_count": 12,
     "metadata": {},
     "output_type": "execute_result"
    }
   ],
   "source": [
    "test_data = pd.DataFrame(columns = ['name', 'label'])\n",
    "\n",
    "for file in tqdm(os.listdir('test')):\n",
    "    test_data = test_data.append({'name' : 'test/' + file, 'label': labels_dict[file[:7]]}, ignore_index=True)\n",
    "test_data"
   ]
  },
  {
   "cell_type": "code",
   "execution_count": 13,
   "id": "dd4cff9c",
   "metadata": {},
   "outputs": [
    {
     "data": {
      "text/plain": [
       "{'VCC2SM3': 0,\n",
       " 'VCC2SM2': 1,\n",
       " 'VCC2SM1': 2,\n",
       " 'VCC2SF1': 3,\n",
       " 'VCC2SF2': 4,\n",
       " 'VCC2SF3': 5,\n",
       " 'VCC2SM4': 6,\n",
       " 'VCC2SF4': 7}"
      ]
     },
     "execution_count": 13,
     "metadata": {},
     "output_type": "execute_result"
    }
   ],
   "source": [
    "labels_dict"
   ]
  },
  {
   "cell_type": "markdown",
   "id": "e71f08da",
   "metadata": {},
   "source": [
    "## Класс-датасет\n",
    "\n",
    "Данные будем все приводить к единообразному состоянию (в данном случае достаточно перегонки в одну длину, например, 5 секунд, путем паддинга или обрезания), немножко аугментировать (сдвиг по времени) и получать их мел-спектрограммы"
   ]
  },
  {
   "cell_type": "code",
   "execution_count": 14,
   "id": "5f28d0c2",
   "metadata": {},
   "outputs": [],
   "source": [
    "from torch.utils.data import DataLoader, Dataset, random_split\n",
    "\n",
    "class SoundDataset(Dataset):\n",
    "    def __init__(self, data, length = 5000, max_shift = 0.2, n_mels=64, n_fft=1024, hop_length=None):\n",
    "        self.data = data\n",
    "        self.length = length\n",
    "        self.max_shift = max_shift\n",
    "        self.n_mels = n_mels\n",
    "        self.n_fft = n_fft\n",
    "        self.hop_length = hop_length\n",
    "    def __len__(self):\n",
    "        return len(self.data)    \n",
    "    \n",
    "    def __getitem__(self, idx):\n",
    "        audio_file = self.data.loc[idx, 'name']\n",
    "        label = self.data.loc[idx, 'label']\n",
    "\n",
    "        audio = torchaudio.load(audio_file)\n",
    "\n",
    "        audio = self.adjusting_length(audio)\n",
    "        audio = self.time_shift(audio)\n",
    "        \n",
    "        audio = self.spectro_gram(audio)\n",
    "\n",
    "        return audio, label   \n",
    "    \n",
    "    def adjusting_length(self, audio):\n",
    "        sig, sr = audio\n",
    "        num_rows, sig_len = sig.shape\n",
    "        sample_length = sr * self.length // 1000\n",
    "\n",
    "        if (sig_len > sample_length):\n",
    "            sig = sig[:, :sample_length]\n",
    "\n",
    "        elif (sig_len < sample_length):\n",
    "            pad_begin_len = np.random.randint(0, sample_length - sig_len)\n",
    "            pad_end_len = sample_length - sig_len - pad_begin_len\n",
    "\n",
    "            pad_begin = torch.zeros((num_rows, pad_begin_len))\n",
    "            pad_end = torch.zeros((num_rows, pad_end_len))\n",
    "\n",
    "            sig = torch.cat((pad_begin, sig, pad_end), 1)\n",
    "\n",
    "        return (sig, sr)\n",
    "    \n",
    "    def time_shift(self, audio):\n",
    "        sig, sr = audio\n",
    "        _, sig_len = sig.shape\n",
    "        shift_amt = int(np.random.random() * self.max_shift * sig_len)\n",
    "        return (sig.roll(shift_amt), sr)\n",
    "    \n",
    "    def spectro_gram(self, audio):\n",
    "        sig, sr = audio\n",
    "        top_db = 80\n",
    "\n",
    "        spec = transforms.MelSpectrogram(sr, n_fft=self.n_fft, hop_length=self.hop_length, n_mels=self.n_mels)(sig)\n",
    "\n",
    "        spec = transforms.AmplitudeToDB(top_db=top_db)(spec)\n",
    "        return (spec)    "
   ]
  },
  {
   "cell_type": "code",
   "execution_count": 15,
   "id": "2828f4eb",
   "metadata": {},
   "outputs": [],
   "source": [
    "dataset = SoundDataset(train_data)\n",
    "\n",
    "num_items = len(dataset)\n",
    "num_train = round(num_items * 0.8)\n",
    "num_val = num_items - num_train\n",
    "train_dataset, val_dataset = random_split(dataset, [num_train, num_val])\n",
    "\n",
    "train_dataloader = DataLoader(train_dataset, batch_size=16, shuffle=True)\n",
    "val_dataloader = DataLoader(val_dataset, batch_size=16, shuffle=False)"
   ]
  },
  {
   "cell_type": "code",
   "execution_count": 16,
   "id": "e4523ed2",
   "metadata": {},
   "outputs": [
    {
     "data": {
      "text/plain": [
       "(648, 518, 130)"
      ]
     },
     "execution_count": 16,
     "metadata": {},
     "output_type": "execute_result"
    }
   ],
   "source": [
    "len(dataset), len(train_dataset), len(val_dataset)"
   ]
  },
  {
   "cell_type": "code",
   "execution_count": 17,
   "id": "ef5add2e",
   "metadata": {},
   "outputs": [
    {
     "data": {
      "text/plain": [
       "torch.Size([1, 64, 216])"
      ]
     },
     "execution_count": 17,
     "metadata": {},
     "output_type": "execute_result"
    }
   ],
   "source": [
    "dataset[5][0].shape"
   ]
  },
  {
   "cell_type": "markdown",
   "id": "fd5f68ca",
   "metadata": {},
   "source": [
    "## Модель\n"
   ]
  },
  {
   "cell_type": "code",
   "execution_count": 18,
   "id": "c2bdd485",
   "metadata": {},
   "outputs": [],
   "source": [
    "import torch.nn.functional as F\n",
    "from torch.nn import init\n",
    "from torch import nn\n",
    "\n",
    "class AudioClassifier(torch.nn.Module):\n",
    "    def __init__(self, num_classes = 8):\n",
    "        super().__init__()\n",
    "        self.conv1 = nn.Conv2d(1, 8, kernel_size=(5, 5), stride=(2, 2), padding=(2, 2))\n",
    "        self.relu1 = nn.ReLU()\n",
    "        self.bn1 = nn.BatchNorm2d(8)\n",
    "\n",
    "        self.conv2 = nn.Conv2d(8, 16, kernel_size=(3, 3), stride=(2, 2), padding=(1, 1))\n",
    "        self.relu2 = nn.ReLU()\n",
    "        self.bn2 = nn.BatchNorm2d(16)\n",
    "\n",
    "        self.conv3 = nn.Conv2d(16, 32, kernel_size=(3, 3), stride=(2, 2), padding=(1, 1))\n",
    "        self.relu3 = nn.ReLU()\n",
    "        self.bn3 = nn.BatchNorm2d(32)\n",
    "\n",
    "        self.conv4 = nn.Conv2d(32, 64, kernel_size=(3, 3), stride=(2, 2), padding=(1, 1))\n",
    "        self.relu4 = nn.ReLU()\n",
    "        self.bn4 = nn.BatchNorm2d(64)\n",
    "        \n",
    "        self.conv5 = nn.Conv2d(64, 128, kernel_size=(3, 3), stride=(2, 2), padding=(1, 1))\n",
    "        self.relu5 = nn.ReLU()\n",
    "        self.bn5 = nn.BatchNorm2d(128)\n",
    "\n",
    "        self.conv_blocks = nn.Sequential(self.conv1, self.relu1, self.bn1,\n",
    "                                         self.conv2, self.relu2, self.bn2,\n",
    "                                         self.conv3, self.relu3, self.bn3,\n",
    "                                         self.conv4, self.relu4, self.bn4,\n",
    "                                         self.conv5, self.relu5, self.bn5\n",
    "                                        )\n",
    "        \n",
    "        self.avgpool = nn.AdaptiveAvgPool2d(output_size=1)\n",
    "        self.linear = nn.Linear(in_features=128, out_features=num_classes)\n",
    " \n",
    "    def forward(self, x):\n",
    "        x = self.conv_blocks(x)\n",
    "        x = self.avgpool(x)\n",
    "        return self.linear(x.view(x.shape[0], -1))"
   ]
  },
  {
   "cell_type": "code",
   "execution_count": 19,
   "id": "billion-status",
   "metadata": {},
   "outputs": [],
   "source": [
    "myModel = AudioClassifier()\n",
    "device = torch.device(\"cuda:0\" if torch.cuda.is_available() else \"cpu\")\n",
    "myModel = myModel.to(device)"
   ]
  },
  {
   "cell_type": "markdown",
   "id": "5796b2d5",
   "metadata": {},
   "source": [
    "## Обучение"
   ]
  },
  {
   "cell_type": "code",
   "execution_count": 20,
   "id": "80ded679",
   "metadata": {},
   "outputs": [],
   "source": [
    "def training(model, train_dataloader, val_dataloader, num_epochs, criterion, optimizer, scheduler, \n",
    "             train_loss=None, val_loss = None, train_acc = None, val_acc = None):\n",
    "    if train_loss is None:\n",
    "        train_loss = []\n",
    "    if val_loss is None:\n",
    "        val_loss = []\n",
    "    if train_acc is None:\n",
    "        train_acc = []\n",
    "    if val_acc is None:\n",
    "        val_acc = []\n",
    "    for epoch in range(num_epochs):\n",
    "        running_loss = 0.0\n",
    "        correct_prediction = 0\n",
    "        total_prediction = 0\n",
    "\n",
    "        for data in tqdm(train_dataloader):\n",
    "            inputs, labels = data[0].to(device), data[1].to(device)\n",
    "\n",
    "            inputs_m, inputs_s = inputs.mean(), inputs.std()\n",
    "            inputs = (inputs - inputs_m) / inputs_s\n",
    "\n",
    "            optimizer.zero_grad()\n",
    "\n",
    "            outputs = model(inputs)\n",
    "            loss = criterion(outputs, labels)\n",
    "            loss.backward()\n",
    "            optimizer.step()\n",
    "            scheduler.step()\n",
    "\n",
    "            running_loss += loss.item()\n",
    "\n",
    "            _, prediction = torch.max(outputs,1)\n",
    "            correct_prediction += (prediction == labels).sum().item()\n",
    "            total_prediction += prediction.shape[0]\n",
    "\n",
    "        num_batches = len(train_dataloader)\n",
    "        avg_loss = running_loss / num_batches\n",
    "        acc = correct_prediction / total_prediction\n",
    "        train_loss.append(avg_loss)\n",
    "        train_acc.append(acc)\n",
    "        \n",
    "        with torch.no_grad():\n",
    "            running_loss = 0.0\n",
    "            correct_prediction = 0\n",
    "            total_prediction = 0\n",
    "\n",
    "            for data in tqdm(val_dataloader):\n",
    "                inputs, labels = data[0].to(device), data[1].to(device)\n",
    "\n",
    "                inputs_m, inputs_s = inputs.mean(), inputs.std()\n",
    "                inputs = (inputs - inputs_m) / inputs_s\n",
    "\n",
    "                optimizer.zero_grad()\n",
    "\n",
    "                outputs = model(inputs)\n",
    "                loss = criterion(outputs, labels)\n",
    "\n",
    "                running_loss += loss.item()\n",
    "\n",
    "                _, prediction = torch.max(outputs,1)\n",
    "                correct_prediction += (prediction == labels).sum().item()\n",
    "                total_prediction += prediction.shape[0]\n",
    "\n",
    "            num_batches = len(val_dataloader)\n",
    "            avg_loss = running_loss / num_batches\n",
    "            acc = correct_prediction / total_prediction\n",
    "            val_loss.append(avg_loss)\n",
    "            val_acc.append(acc)\n",
    "            \n",
    "        clear_output(wait=True)\n",
    "        print(\"Epoch\", epoch + 1)\n",
    "        fig, (ax1, ax2) = plt.subplots(2, 1, figsize=(16, 16))\n",
    "        ax1.plot(train_loss, label='Train loss')\n",
    "        ax1.plot(val_loss, label='Val loss')\n",
    "        ax1.set_title(\"Loss\")\n",
    "        ax2.plot(train_acc, label='Train acc')\n",
    "        ax2.plot(val_acc, label='Val acc')\n",
    "        ax2.set_title(\"Accuracy\")\n",
    "        ax1.legend()\n",
    "        ax2.legend()\n",
    "        plt.show()"
   ]
  },
  {
   "cell_type": "code",
   "execution_count": 21,
   "id": "b073f847",
   "metadata": {},
   "outputs": [
    {
     "name": "stdout",
     "output_type": "stream",
     "text": [
      "Epoch 30\n"
     ]
    },
    {
     "data": {
      "image/png": "[encoded data removed]",
      "text/plain": [
       "<Figure size 1152x1152 with 2 Axes>"
      ]
     },
     "metadata": {
      "needs_background": "light"
     },
     "output_type": "display_data"
    }
   ],
   "source": [
    "num_epochs = 30 \n",
    "\n",
    "criterion = nn.CrossEntropyLoss()\n",
    "optimizer = torch.optim.Adam(myModel.parameters(),lr=0.001)\n",
    "scheduler = torch.optim.lr_scheduler.OneCycleLR(optimizer, max_lr=0.001,\n",
    "                                            steps_per_epoch=int(len(train_dataloader)),\n",
    "                                            epochs=num_epochs,\n",
    "                                            anneal_strategy='linear')\n",
    "\n",
    "training(myModel, train_dataloader, val_dataloader, num_epochs, criterion, optimizer, scheduler)"
   ]
  },
  {
   "cell_type": "markdown",
   "id": "0189b5ec",
   "metadata": {},
   "source": [
    "## Тестирование"
   ]
  },
  {
   "cell_type": "code",
   "execution_count": 22,
   "id": "0784897a",
   "metadata": {},
   "outputs": [
    {
     "name": "stdout",
     "output_type": "stream",
     "text": [
      "Test...\n"
     ]
    },
    {
     "data": {
      "application/vnd.jupyter.widget-view+json": {
       "model_id": "06e14c4039984993bc1db327420d319a",
       "version_major": 2,
       "version_minor": 0
      },
      "text/plain": [
       "  0%|          | 0/18 [00:00<?, ?it/s]"
      ]
     },
     "metadata": {},
     "output_type": "display_data"
    },
    {
     "name": "stdout",
     "output_type": "stream",
     "text": [
      "Loss: 0.044232381055028074 \n",
      "Accuracy: 0.9964285714285714\n"
     ]
    }
   ],
   "source": [
    "test_dataset = SoundDataset(test_data)\n",
    "test_dataloader = DataLoader(test_dataset, batch_size=16, shuffle=False)\n",
    "\n",
    "def inference(model, test_dataloader, criterion):\n",
    "    print(\"Test...\")\n",
    "    with torch.no_grad():\n",
    "        running_loss = 0.0\n",
    "        correct_prediction = 0\n",
    "        total_prediction = 0\n",
    "\n",
    "        for data in tqdm(test_dataloader):\n",
    "            inputs, labels = data[0].to(device), data[1].to(device)\n",
    "\n",
    "            inputs_m, inputs_s = inputs.mean(), inputs.std()\n",
    "            inputs = (inputs - inputs_m) / inputs_s\n",
    "\n",
    "            outputs = model(inputs)\n",
    "            loss = criterion(outputs, labels)\n",
    "\n",
    "            running_loss += loss.item()\n",
    "\n",
    "            _, prediction = torch.max(outputs,1)\n",
    "            correct_prediction += (prediction == labels).sum().item()\n",
    "            total_prediction += prediction.shape[0]\n",
    "\n",
    "        num_batches = len(test_dataloader)\n",
    "        avg_loss = running_loss / num_batches\n",
    "        acc = correct_prediction / total_prediction\n",
    "    print(\"Loss:\", avg_loss, \"\\nAccuracy:\", acc)\n",
    "\n",
    "inference(myModel, test_dataloader, criterion)"
   ]
  }
 ],
 "metadata": {
  "kernelspec": {
   "display_name": "Python 3",
   "language": "python",
   "name": "python3"
  },
  "language_info": {
   "codemirror_mode": {
    "name": "ipython",
    "version": 3
   },
   "file_extension": ".py",
   "mimetype": "text/x-python",
   "name": "python",
   "nbconvert_exporter": "python",
   "pygments_lexer": "ipython3",
   "version": "3.8.10"
  }
 },
 "nbformat": 4,
 "nbformat_minor": 5
}
